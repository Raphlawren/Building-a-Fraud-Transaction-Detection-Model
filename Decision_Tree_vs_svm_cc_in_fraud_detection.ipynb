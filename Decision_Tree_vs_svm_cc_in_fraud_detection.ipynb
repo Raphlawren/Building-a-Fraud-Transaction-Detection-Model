{
  "cells": [
    {
      "cell_type": "code",
      "execution_count": null,
      "metadata": {
        "id": "Pxo_zgZGnt8P"
      },
      "outputs": [],
      "source": [
        "# Importing the libraries\n",
        "import pandas as pd\n",
        "import matplotlib.pyplot as plt\n",
        "%matplotlib inline\n",
        "from sklearn.model_selection import train_test_split\n",
        "from sklearn.preprocessing import StandardScaler, normalize\n",
        "from sklearn.utils.class_weight import compute_sample_weight\n",
        "from sklearn.tree import DecisionTreeClassifier\n",
        "from sklearn.metrics import roc_auc_score\n",
        "from sklearn.svm import LinearSVC"
      ]
    },
    {
      "cell_type": "code",
      "execution_count": null,
      "metadata": {
        "id": "Nzj9uIQgn22-"
      },
      "outputs": [],
      "source": [
        "url= \"https://cf-courses-data.s3.us.cloud-object-storage.appdomain.cloud/IBMDeveloperSkillsNetwork-ML0101EN-SkillsNetwork/labs/Module%203/data/creditcard.csv\"\n",
        "\n",
        "raw_data = pd.read_csv(url)\n",
        "raw_data.head()"
      ]
    },
    {
      "cell_type": "code",
      "source": [
        "# Creating the label of the target\n",
        "labels = raw_data.Class.unique()\n",
        "\n",
        "# size of the each target\n",
        "size =raw_data.Class.value_counts().values\n",
        "\n",
        "#plotting the pie\n",
        "\n",
        "fig, ax = plt.subplots()\n",
        "\n",
        "ax.pie(size, labels=labels, autopct='%1.1f%%')\n",
        "ax.set_title(\"Value of the Target classes\")\n",
        "plt.show()"
      ],
      "metadata": {
        "id": "rvx3Bj2SdPiF"
      },
      "execution_count": null,
      "outputs": []
    },
    {
      "cell_type": "code",
      "execution_count": null,
      "metadata": {
        "id": "8bQ95XKFn6E1"
      },
      "outputs": [],
      "source": [
        "correlation_values = raw_data.corr()['Class'].drop('Class')\n",
        "correlation_values.plot(kind='barh', figsize=(10, 6))"
      ]
    },
    {
      "cell_type": "code",
      "source": [
        "# Standardize the features for better model performance\n",
        "raw_data.iloc[:, 1:30] = StandardScaler().fit_transform(raw_data.iloc[:, 1:30])\n",
        "data_matrix = raw_data.values\n",
        "\n",
        "# X: features, we remove Time from the features\n",
        "X = data_matrix[:, 1:30]\n",
        "\n",
        "# Y: Target class\n",
        "y = data_matrix[:, 30]\n",
        "\n",
        "#Normalize the data\n",
        "X = normalize(X, norm='l1' )"
      ],
      "metadata": {
        "id": "cUP4x8sAfh5A"
      },
      "execution_count": null,
      "outputs": []
    },
    {
      "cell_type": "code",
      "source": [
        "# Train and split the data\n",
        "\n",
        "X_train, X_test, y_train, y_test = train_test_split( X, y, test_size=0.3, random_state=42)"
      ],
      "metadata": {
        "id": "_rXcbWYTmgyc"
      },
      "execution_count": null,
      "outputs": []
    },
    {
      "cell_type": "code",
      "source": [
        "# Informing the model of the imabalance in the Target Feature\n",
        "w_train = compute_sample_weight('balanced', y_train)"
      ],
      "metadata": {
        "id": "Z-vZT-kBm0Sv"
      },
      "execution_count": null,
      "outputs": []
    },
    {
      "cell_type": "code",
      "source": [
        "# Building the model\n",
        "dt = DecisionTreeClassifier(max_depth=4, random_state=35)\n",
        "\n",
        "#fitting the model\n",
        "dt.fit(X_train, y_train, sample_weight=w_train)"
      ],
      "metadata": {
        "id": "IQwDP2UsnDzK"
      },
      "execution_count": null,
      "outputs": []
    },
    {
      "cell_type": "markdown",
      "source": [
        "##### Building a SVM model"
      ],
      "metadata": {
        "id": "wyFAVJvzbWgD"
      }
    },
    {
      "cell_type": "code",
      "source": [
        "# Build the Support Vector Machine model\n",
        "svm = LinearSVC(class_weight='balanced', random_state=31, loss='hinge', fit_intercept=False)\n",
        "\n",
        "# fitting the SVM model\n",
        "svm.fit(X_train, y_train)"
      ],
      "metadata": {
        "id": "8bxYct41ba5h"
      },
      "execution_count": null,
      "outputs": []
    },
    {
      "cell_type": "code",
      "source": [
        "# Check the probability of the test samples that belongs to fraudulent transactions\n",
        "y_pred_dt = dt.predict_proba(X_test)[:, 1]"
      ],
      "metadata": {
        "id": "OSALq8rWctiO"
      },
      "execution_count": null,
      "outputs": []
    },
    {
      "cell_type": "markdown",
      "source": [
        "Using these probabilities, we can evaluate the Area Under the Receiver Operating Characteristic Curve (ROC-AUC) score as a metric of model performance.\n",
        "The AUC-ROC score evaluates your model's ability to distinguish positive and negative classes considering all possible probability thresholds. The higher its value, the better the model is considered for separating the two classes of values.\n"
      ],
      "metadata": {
        "id": "Ol_iqwtOd8cn"
      }
    },
    {
      "cell_type": "code",
      "source": [
        "roc_auc_dt = roc_auc_score(y_test, y_pred_dt)\n",
        "print(\"Decision Tree ROC-AUC Score : {0:.3f}\".format(roc_auc_dt))"
      ],
      "metadata": {
        "id": "-qaibZK9eA_x"
      },
      "execution_count": null,
      "outputs": []
    },
    {
      "cell_type": "markdown",
      "source": [
        "### Evaluating the Support Vector Machine"
      ],
      "metadata": {
        "id": "dYuXnO_ke0Bz"
      }
    },
    {
      "cell_type": "code",
      "source": [
        "# compute the probability of the test sample belonging to the fraudulent transactions\n",
        "y_pred_svm = svm.decision_function(X_test)"
      ],
      "metadata": {
        "id": "-T43PCJle58M"
      },
      "execution_count": null,
      "outputs": []
    },
    {
      "cell_type": "code",
      "source": [
        "# Check the accuracy of the SVM on the test set in terms of the ROC-AUC Score\n",
        "roc_auc_svm = roc_auc_score(y_test, y_pred_svm)\n",
        "print(\"SVM ROC-AUC score: {0:.3f}\".format(roc_auc_svm))"
      ],
      "metadata": {
        "id": "LTnDPYGUfQua"
      },
      "execution_count": null,
      "outputs": []
    },
    {
      "cell_type": "markdown",
      "source": [
        "# TOP 6 features in correlation with the target variable\n"
      ],
      "metadata": {
        "id": "n-9mRjnlf6c9"
      }
    },
    {
      "cell_type": "code",
      "source": [
        "# print the top 6 features that correlates with the target. NB: abs removes the negative sign\n",
        "correlation_values = abs(raw_data.corr()['Class'].drop('Class'))\n",
        "correlation_values = correlation_values.sort_values(ascending=False)[:6]\n",
        "correlation_values"
      ],
      "metadata": {
        "id": "DGVOi_v2hdSI"
      },
      "execution_count": null,
      "outputs": []
    },
    {
      "cell_type": "code",
      "source": [
        "# Building with the top 6 features\n",
        "X = data_matrix[:, [3,10,12,14,16,17]]\n"
      ],
      "metadata": {
        "id": "3FNPDlm4kke6"
      },
      "execution_count": null,
      "outputs": []
    },
    {
      "cell_type": "code",
      "source": [
        "# train the model\n",
        "X_train, X_test, y_train, y_test = train_test_split(X, y, test_size=0.3, random_state=42)"
      ],
      "metadata": {
        "id": "N0DG-1HSqmUw"
      },
      "execution_count": null,
      "outputs": []
    },
    {
      "cell_type": "code",
      "source": [
        "# Balance the model with the imbalance in the target variable\n",
        "w_train = compute_sample_weight('balanced', y_train)"
      ],
      "metadata": {
        "id": "yxWNs_ACTPfI"
      },
      "execution_count": null,
      "outputs": []
    },
    {
      "cell_type": "code",
      "source": [
        "# Inputting the decision tree\n",
        "dt = DecisionTreeClassifier(max_depth=4, random_state=35)\n",
        "dt.fit(X_train, y_train, sample_weight=w_train)"
      ],
      "metadata": {
        "id": "BEN9otlKTw0j"
      },
      "execution_count": null,
      "outputs": []
    },
    {
      "cell_type": "code",
      "source": [
        "# checking the probability of the prediction\n",
        "y_predict_ = dt.predict_proba(X_test)[:, 1]"
      ],
      "metadata": {
        "id": "CRWfNAY6UCBT"
      },
      "execution_count": null,
      "outputs": []
    },
    {
      "cell_type": "code",
      "source": [
        "# comparing the predicted with the untrained data\n",
        "roc_auc_dt = roc_auc_score(y_test, y_predict_)\n",
        "print(\"Decicision Tree ROC_AUC score is {0:.3f}\".format(roc_auc_dt))"
      ],
      "metadata": {
        "id": "w2kReufHUY_9"
      },
      "execution_count": null,
      "outputs": []
    },
    {
      "cell_type": "markdown",
      "source": [
        "For SVM\n"
      ],
      "metadata": {
        "id": "InHySJXRVQlB"
      }
    },
    {
      "cell_type": "code",
      "source": [
        "svms = LinearSVC(class_weight='balanced', random_state=35, loss='hinge', fit_intercept=False)\n",
        "svms.fit(X_train, y_train)"
      ],
      "metadata": {
        "id": "Qofcu8vhVTcC"
      },
      "execution_count": null,
      "outputs": []
    },
    {
      "cell_type": "code",
      "source": [
        "y_predict_svm = svms.decision_function(X_test)"
      ],
      "metadata": {
        "id": "2A5Yh4auVcJV"
      },
      "execution_count": null,
      "outputs": []
    },
    {
      "cell_type": "code",
      "source": [
        "roc_auc_svms = roc_auc_score(y_test, y_predict_svm)\n",
        "print(\"SVM ROC-AUC score: {0:.3f}\".format(roc_auc_svms))"
      ],
      "metadata": {
        "id": "-6qzOQgbWOnU"
      },
      "execution_count": null,
      "outputs": []
    },
    {
      "cell_type": "markdown",
      "source": [
        "Insights:  \n",
        "1. With a larger set of features, SVM perform better in comparison to Decision Trees.\n",
        "2. Decision Trees benefitted from feature selection and performed better.  \n",
        "3. SVMs may require higher feature dimensionality to create efficient decision hyperplane."
      ],
      "metadata": {
        "id": "emeQUetDW4qy"
      }
    }
  ],
  "metadata": {
    "colab": {
      "provenance": []
    },
    "kernelspec": {
      "display_name": "Python 3",
      "name": "python3"
    },
    "language_info": {
      "name": "python"
    }
  },
  "nbformat": 4,
  "nbformat_minor": 0
}